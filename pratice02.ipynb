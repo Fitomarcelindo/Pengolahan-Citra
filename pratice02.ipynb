{
 "cells": [
  {
   "cell_type": "markdown",
   "id": "1d988319",
   "metadata": {},
   "source": [
    "# Pratice 02 Greyscale\n"
   ]
  },
  {
   "cell_type": "code",
   "execution_count": 1,
   "id": "11d40992",
   "metadata": {},
   "outputs": [],
   "source": [
    "import cv2 as marcel \n",
    "from matplotlib import pyplot as plt"
   ]
  },
  {
   "cell_type": "code",
   "execution_count": 2,
   "id": "89744388",
   "metadata": {},
   "outputs": [],
   "source": [
    "img = marcel.imread(\".\\download.jpg\")"
   ]
  },
  {
   "cell_type": "code",
   "execution_count": 3,
   "id": "241638cd",
   "metadata": {},
   "outputs": [],
   "source": [
    "marcel.imshow(\"marcel\", img) \n",
    "marcel.waitKey(0)\n",
    "marcel.destroyAllWindows()"
   ]
  },
  {
   "cell_type": "markdown",
   "id": "0e5c1133",
   "metadata": {},
   "source": [
    "# print size image"
   ]
  },
  {
   "cell_type": "code",
   "execution_count": 4,
   "id": "3398f566",
   "metadata": {},
   "outputs": [
    {
     "name": "stdout",
     "output_type": "stream",
     "text": [
      "64389\n"
     ]
    }
   ],
   "source": [
    "print(img.size)"
   ]
  },
  {
   "cell_type": "markdown",
   "id": "2615f98a",
   "metadata": {},
   "source": [
    "# shape Original\n",
    "\n"
   ]
  },
  {
   "cell_type": "code",
   "execution_count": 5,
   "id": "d832ff0c",
   "metadata": {},
   "outputs": [
    {
     "name": "stdout",
     "output_type": "stream",
     "text": [
      "(127, 169, 3)\n"
     ]
    }
   ],
   "source": [
    "print(img.shape)"
   ]
  },
  {
   "cell_type": "markdown",
   "id": "602f8e6b",
   "metadata": {},
   "source": [
    "# convert RGB to Grayscale"
   ]
  },
  {
   "cell_type": "code",
   "execution_count": 6,
   "id": "b5d355f8",
   "metadata": {},
   "outputs": [],
   "source": [
    "img_gray = marcel.cvtColor(img, marcel.COLOR_RGB2GRAY) ##mengubah warna gambar menggunakan tab pada colom objek"
   ]
  },
  {
   "cell_type": "code",
   "execution_count": 7,
   "id": "af853ab1",
   "metadata": {},
   "outputs": [],
   "source": [
    "marcel.imshow(\"img convert to grey scale \", img_gray)\n",
    "marcel.waitKey(0)\n",
    "marcel.destroyAllWindows()"
   ]
  },
  {
   "cell_type": "markdown",
   "id": "3b01ca8e",
   "metadata": {},
   "source": [
    "# Show Size "
   ]
  },
  {
   "cell_type": "code",
   "execution_count": 8,
   "id": "c115a5aa",
   "metadata": {},
   "outputs": [
    {
     "name": "stdout",
     "output_type": "stream",
     "text": [
      "21463\n"
     ]
    }
   ],
   "source": [
    "print(img_gray.size)"
   ]
  },
  {
   "cell_type": "markdown",
   "id": "af97d6fb",
   "metadata": {},
   "source": [
    "# Show Shape Grayscale"
   ]
  },
  {
   "cell_type": "code",
   "execution_count": 9,
   "id": "022ccf46",
   "metadata": {},
   "outputs": [
    {
     "name": "stdout",
     "output_type": "stream",
     "text": [
      "(127, 169)\n"
     ]
    }
   ],
   "source": [
    "print(img_gray.shape)"
   ]
  },
  {
   "cell_type": "code",
   "execution_count": 10,
   "id": "f16aa99e",
   "metadata": {},
   "outputs": [
    {
     "name": "stdout",
     "output_type": "stream",
     "text": [
      "[[255 255 255 ... 255 255 255]\n",
      " [255 255 255 ... 255 255 255]\n",
      " [255 255 255 ... 255 255 255]\n",
      " ...\n",
      " [255 255 255 ... 255 255 255]\n",
      " [255 255 255 ... 255 255 255]\n",
      " [255 255 255 ... 255 255 255]]\n"
     ]
    }
   ],
   "source": [
    "print(img_gray)"
   ]
  },
  {
   "cell_type": "markdown",
   "id": "e117d674",
   "metadata": {},
   "source": [
    "# Save New file"
   ]
  },
  {
   "cell_type": "code",
   "execution_count": 11,
   "id": "bb4b830f",
   "metadata": {},
   "outputs": [
    {
     "data": {
      "text/plain": [
       "True"
      ]
     },
     "execution_count": 11,
     "metadata": {},
     "output_type": "execute_result"
    }
   ],
   "source": [
    "marcel.imwrite(\"grayscale.jpg\", img_gray)"
   ]
  },
  {
   "cell_type": "markdown",
   "id": "207d7017",
   "metadata": {},
   "source": [
    "# Grey Scale to binary "
   ]
  },
  {
   "cell_type": "code",
   "execution_count": 12,
   "id": "395cb051",
   "metadata": {},
   "outputs": [],
   "source": [
    "(thresh, binary) = marcel.threshold(img_gray, 128, 256, marcel.THRESH_BINARY | marcel.THRESH_OTSU)"
   ]
  },
  {
   "cell_type": "code",
   "execution_count": 13,
   "id": "5c431feb",
   "metadata": {},
   "outputs": [],
   "source": [
    "marcel.imshow(\" grey scale binary\", binary)\n",
    "marcel.waitKey(0)\n",
    "marcel.destroyAllWindows()"
   ]
  },
  {
   "cell_type": "code",
   "execution_count": null,
   "id": "4d1402ca",
   "metadata": {},
   "outputs": [],
   "source": []
  }
 ],
 "metadata": {
  "kernelspec": {
   "display_name": "Python 3 (ipykernel)",
   "language": "python",
   "name": "python3"
  },
  "language_info": {
   "codemirror_mode": {
    "name": "ipython",
    "version": 3
   },
   "file_extension": ".py",
   "mimetype": "text/x-python",
   "name": "python",
   "nbconvert_exporter": "python",
   "pygments_lexer": "ipython3",
   "version": "3.9.13"
  }
 },
 "nbformat": 4,
 "nbformat_minor": 5
}
