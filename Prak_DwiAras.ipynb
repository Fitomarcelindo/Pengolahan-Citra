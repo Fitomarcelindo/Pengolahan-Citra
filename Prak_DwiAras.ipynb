{
 "cells": [
  {
   "cell_type": "code",
   "execution_count": 1,
   "id": "a340f3fb",
   "metadata": {},
   "outputs": [],
   "source": [
    "import cv2 as marcel\n",
    "import numpy as np\n",
    "import matplotlib.pyplot as plt\n",
    "%matplotlib inline\n",
    "\n",
    "from skimage import data \n",
    "from skimage.io import imread\n",
    "from skimage.color import rgb2gray "
   ]
  },
  {
   "cell_type": "code",
   "execution_count": 3,
   "id": "2f579e8e",
   "metadata": {},
   "outputs": [],
   "source": [
    "pict = marcel.imread('DAUN.jpg', 0)\n",
    "tinggi, lebar  = pict.shape"
   ]
  },
  {
   "cell_type": "code",
   "execution_count": 4,
   "id": "c7f1aee6",
   "metadata": {},
   "outputs": [],
   "source": [
    "marcel.imshow('pict asli', pict)\n",
    "marcel.waitKey(0)\n",
    "marcel.destroyAllWindows()"
   ]
  },
  {
   "cell_type": "markdown",
   "id": "30c1bdbb",
   "metadata": {},
   "source": [
    "## Probabilty Dwi aras with probabilty value ambang"
   ]
  },
  {
   "cell_type": "code",
   "execution_count": 10,
   "id": "38872a64",
   "metadata": {},
   "outputs": [],
   "source": [
    "value_ambang = 128\n",
    "pict_hasil = pict.copy()\n",
    "\n",
    "for x in range(tinggi):\n",
    "    for y in range(lebar):\n",
    "        if pict[x, y] < value_ambang:\n",
    "            pict_hasil[x, y] = 0\n",
    "        else:\n",
    "            pict_hasil[x, y] = 225\n"
   ]
  },
  {
   "cell_type": "code",
   "execution_count": 12,
   "id": "b313cbcf",
   "metadata": {},
   "outputs": [],
   "source": [
    "marcel.imshow('Dwi Aras', pict_hasil)\n",
    "marcel.waitKey(0)\n",
    "marcel.destroyAllWindows()"
   ]
  },
  {
   "cell_type": "markdown",
   "id": "297f400b",
   "metadata": {},
   "source": [
    "## Pick the Value Ambang Suatu citra"
   ]
  },
  {
   "cell_type": "code",
   "execution_count": 13,
   "id": "0aab1ab4",
   "metadata": {},
   "outputs": [],
   "source": [
    "def titeratif(image):\n",
    "    ting, lebar =  image.shape\n",
    "    t0 = 127\n",
    "    while (True):\n",
    "        avg_left = 0;\n",
    "        avg_right = 0;\n",
    "        jum_left = 0;\n",
    "        jum_right = 0;\n",
    "        for x in range (tinggi):\n",
    "            for y in range (lebar):\n",
    "                if (image[x,y] <= 127):\n",
    "                    avg_left = avg_left + image[x,y]\n",
    "                    jum_left = jum_left + 1\n",
    "                else :\n",
    "                    avg_right = avg_right + image[x,y]\n",
    "                    jum_right = jum_right + 1\n",
    "                    \n",
    "        avg_left = avg_left / jum_left\n",
    "        avg_right = avg_right / jum_right\n",
    "        t1 = (avg_left + avg_right) / 2\n",
    "        if ((t0 - t1)< 1):\n",
    "            break\n",
    "        t0 = t1\n",
    "    return round(t1)"
   ]
  },
  {
   "cell_type": "code",
   "execution_count": 14,
   "id": "b1f29537",
   "metadata": {},
   "outputs": [
    {
     "data": {
      "text/plain": [
       "131"
      ]
     },
     "execution_count": 14,
     "metadata": {},
     "output_type": "execute_result"
    }
   ],
   "source": [
    "titeratif(pict)"
   ]
  },
  {
   "cell_type": "markdown",
   "id": "f6b0ac2f",
   "metadata": {},
   "source": [
    "## Aras a LOT "
   ]
  },
  {
   "cell_type": "code",
   "execution_count": 22,
   "id": "de259b24",
   "metadata": {},
   "outputs": [],
   "source": [
    "bentuk =  marcel.imread('arasJamak.jpg', 0)\n",
    "tinggi, lebar  = bentuk.shape"
   ]
  },
  {
   "cell_type": "code",
   "execution_count": 38,
   "id": "13a06c69",
   "metadata": {},
   "outputs": [],
   "source": [
    "def arasjamak(image, t1, t2):\n",
    "    res = image.copy()\n",
    "    m, n = image.shape\n",
    "    for x in range(m):\n",
    "        for y in range(n):  # Menambahkan loop untuk indeks y\n",
    "            if (image[x, y] <= t1) or (image[x, y] >= t2):\n",
    "                res[x, y] = 0\n",
    "            else: \n",
    "                res[x, y] = 255\n",
    "    return res\n"
   ]
  },
  {
   "cell_type": "code",
   "execution_count": 41,
   "id": "f7f675c4",
   "metadata": {},
   "outputs": [],
   "source": [
    "bentukArasJamak = arasjamak(bentuk, 185, 200)"
   ]
  },
  {
   "cell_type": "code",
   "execution_count": 42,
   "id": "dd52f30a",
   "metadata": {},
   "outputs": [],
   "source": [
    "marcel.imshow('Dwi Aras', bentukArasJamak)\n",
    "marcel.waitKey(0)\n",
    "marcel.destroyAllWindows()"
   ]
  },
  {
   "cell_type": "code",
   "execution_count": null,
   "id": "e0e6219c",
   "metadata": {},
   "outputs": [],
   "source": []
  }
 ],
 "metadata": {
  "kernelspec": {
   "display_name": "Python 3 (ipykernel)",
   "language": "python",
   "name": "python3"
  },
  "language_info": {
   "codemirror_mode": {
    "name": "ipython",
    "version": 3
   },
   "file_extension": ".py",
   "mimetype": "text/x-python",
   "name": "python",
   "nbconvert_exporter": "python",
   "pygments_lexer": "ipython3",
   "version": "3.9.13"
  }
 },
 "nbformat": 4,
 "nbformat_minor": 5
}
