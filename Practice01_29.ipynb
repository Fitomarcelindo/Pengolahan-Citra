{
 "cells": [
  {
   "cell_type": "code",
   "execution_count": 1,
   "id": "2c92ef1f",
   "metadata": {},
   "outputs": [
    {
     "name": "stdout",
     "output_type": "stream",
     "text": [
      "Requirement already satisfied: opencv-python in c:\\users\\acer\\anaconda3\\lib\\site-packages (4.7.0.72)\n",
      "Requirement already satisfied: numpy>=1.17.0 in c:\\users\\acer\\anaconda3\\lib\\site-packages (from opencv-python) (1.21.5)\n"
     ]
    }
   ],
   "source": [
    "!pip install opencv-python"
   ]
  },
  {
   "cell_type": "markdown",
   "id": "a0481efa",
   "metadata": {},
   "source": [
    "## Import Library"
   ]
  },
  {
   "cell_type": "code",
   "execution_count": 1,
   "id": "1f64bc55",
   "metadata": {},
   "outputs": [],
   "source": [
    "import cv2  #untuk mengimport package opencv\n",
    "from matplotlib import pyplot as plt"
   ]
  },
  {
   "cell_type": "markdown",
   "id": "140a17a7",
   "metadata": {},
   "source": [
    "## Read File"
   ]
  },
  {
   "cell_type": "code",
   "execution_count": 2,
   "id": "f38a41db",
   "metadata": {},
   "outputs": [],
   "source": [
    "img = cv2.imread('download.jpg') #untuk memasukkan gambar"
   ]
  },
  {
   "cell_type": "markdown",
   "id": "306ef62c",
   "metadata": {},
   "source": [
    "## Show Image"
   ]
  },
  {
   "cell_type": "code",
   "execution_count": 3,
   "id": "455e7b1d",
   "metadata": {},
   "outputs": [],
   "source": [
    "cv2.imshow('Image',img)\n",
    "cv2.waitKey(0) #lama waktu tamppilan image \n",
    "cv2.destroyAllWindows()"
   ]
  },
  {
   "cell_type": "markdown",
   "id": "4d9d6f81",
   "metadata": {},
   "source": [
    "# RGB TO GRAY"
   ]
  },
  {
   "cell_type": "code",
   "execution_count": 4,
   "id": "77fa91ba",
   "metadata": {},
   "outputs": [],
   "source": [
    "gray = cv2.cvtColor(img, cv2.COLOR_BGR2GRAY)"
   ]
  },
  {
   "cell_type": "code",
   "execution_count": 5,
   "id": "e8508002",
   "metadata": {},
   "outputs": [],
   "source": [
    "cv2.imshow('Image',gray)\n",
    "cv2.waitKey(0) #lama waktu tamppilan image \n",
    "cv2.destroyAllWindows()"
   ]
  },
  {
   "cell_type": "markdown",
   "id": "1b02a448",
   "metadata": {},
   "source": [
    "# gray to binary "
   ]
  },
  {
   "cell_type": "code",
   "execution_count": 6,
   "id": "61ed6d34",
   "metadata": {},
   "outputs": [],
   "source": [
    "(thres, binary) =  cv2.threshold(gray, 128, 255, cv2.THRESH_BINARY | cv2.THRESH_OTSU)"
   ]
  },
  {
   "cell_type": "code",
   "execution_count": null,
   "id": "3e8b4598",
   "metadata": {},
   "outputs": [],
   "source": [
    "cv2.imshow('Image',binary)\n",
    "cv2.waitKey(0) #lama waktu tamppilan image \n",
    "cv2.destroyAllWindows()"
   ]
  },
  {
   "cell_type": "markdown",
   "id": "b4992e4a",
   "metadata": {},
   "source": [
    "# save image"
   ]
  },
  {
   "cell_type": "code",
   "execution_count": 9,
   "id": "da1de178",
   "metadata": {},
   "outputs": [
    {
     "data": {
      "text/plain": [
       "True"
      ]
     },
     "execution_count": 9,
     "metadata": {},
     "output_type": "execute_result"
    }
   ],
   "source": [
    "cv2.imwrite('binaryto.jpg', binary)"
   ]
  },
  {
   "cell_type": "code",
   "execution_count": null,
   "id": "55892e1d",
   "metadata": {},
   "outputs": [],
   "source": [
    "img = img.transpose(method=Image.FLIP_LEFT_RIGHT)"
   ]
  }
 ],
 "metadata": {
  "kernelspec": {
   "display_name": "Python 3 (ipykernel)",
   "language": "python",
   "name": "python3"
  },
  "language_info": {
   "codemirror_mode": {
    "name": "ipython",
    "version": 3
   },
   "file_extension": ".py",
   "mimetype": "text/x-python",
   "name": "python",
   "nbconvert_exporter": "python",
   "pygments_lexer": "ipython3",
   "version": "3.9.13"
  }
 },
 "nbformat": 4,
 "nbformat_minor": 5
}
