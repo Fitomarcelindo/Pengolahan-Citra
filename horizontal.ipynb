{
 "cells": [
  {
   "cell_type": "code",
   "execution_count": 1,
   "id": "a391bc0f",
   "metadata": {},
   "outputs": [
    {
     "name": "stdout",
     "output_type": "stream",
     "text": [
      "Requirement already satisfied: pillow in c:\\users\\acer\\anaconda3\\lib\\site-packages (9.2.0)\n"
     ]
    }
   ],
   "source": [
    "!pip install pillow\n",
    "from PIL import Image\n",
    "import cv2 as Image\n",
    "import numpy as np\n",
    "from matplotlib import pyplot as plt"
   ]
  },
  {
   "cell_type": "code",
   "execution_count": 2,
   "id": "0580b31a",
   "metadata": {},
   "outputs": [],
   "source": [
    "img = Image.imread('citramedis.jpg')"
   ]
  },
  {
   "cell_type": "code",
   "execution_count": 3,
   "id": "d797638d",
   "metadata": {},
   "outputs": [],
   "source": [
    "Image.imshow('Image',img)\n",
    "Image.waitKey(0) \n",
    "Image.destroyAllWindows()"
   ]
  },
  {
   "cell_type": "code",
   "execution_count": 4,
   "id": "8de55701",
   "metadata": {},
   "outputs": [],
   "source": [
    "flipped_img = Image.flip(img, 1)"
   ]
  },
  {
   "cell_type": "code",
   "execution_count": 5,
   "id": "7c99a78f",
   "metadata": {},
   "outputs": [],
   "source": [
    "Image.imshow('Flipped Image', flipped_img)\n",
    "Image.waitKey(0)\n",
    "Image.destroyAllWindows()"
   ]
  },
  {
   "cell_type": "code",
   "execution_count": 6,
   "id": "c69aa1db",
   "metadata": {},
   "outputs": [],
   "source": [
    "flipped_image = Image.flip(img, 0)"
   ]
  },
  {
   "cell_type": "code",
   "execution_count": 7,
   "id": "3b9f7efd",
   "metadata": {},
   "outputs": [],
   "source": [
    "Image.imshow('Flipped Image', flipped_image)\n",
    "Image.waitKey(0)\n",
    "Image.destroyAllWindows()"
   ]
  },
  {
   "cell_type": "code",
   "execution_count": 9,
   "id": "6f850d2e",
   "metadata": {},
   "outputs": [
    {
     "name": "stdout",
     "output_type": "stream",
     "text": [
      "64389\n"
     ]
    }
   ],
   "source": [
    "pict = Image.imread(\"download.jpg\") \n",
    "\n",
    "pict_arr = np.array(pict)\n",
    "\n",
    "pixel = pict_arr.size\n",
    "\n",
    "print(pixel)"
   ]
  },
  {
   "cell_type": "code",
   "execution_count": null,
   "id": "45f5f184",
   "metadata": {},
   "outputs": [],
   "source": []
  }
 ],
 "metadata": {
  "kernelspec": {
   "display_name": "Python 3 (ipykernel)",
   "language": "python",
   "name": "python3"
  },
  "language_info": {
   "codemirror_mode": {
    "name": "ipython",
    "version": 3
   },
   "file_extension": ".py",
   "mimetype": "text/x-python",
   "name": "python",
   "nbconvert_exporter": "python",
   "pygments_lexer": "ipython3",
   "version": "3.9.13"
  }
 },
 "nbformat": 4,
 "nbformat_minor": 5
}
