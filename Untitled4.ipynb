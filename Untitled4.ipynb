{
 "cells": [
  {
   "cell_type": "code",
   "execution_count": 10,
   "id": "673d003c",
   "metadata": {},
   "outputs": [
    {
     "data": {
      "application/vnd.jupyter.widget-view+json": {
       "model_id": "73f41834d9984d0faf76a761c98926b8",
       "version_major": 2,
       "version_minor": 0
      },
      "text/plain": [
       "HBox(children=(Button(description='Wolf', style=ButtonStyle()), Button(description='Sheep', style=ButtonStyle(…"
      ]
     },
     "metadata": {},
     "output_type": "display_data"
    },
    {
     "data": {
      "application/vnd.jupyter.widget-view+json": {
       "model_id": "8801c4cb723945cfbd36987042b146a0",
       "version_major": 2,
       "version_minor": 0
      },
      "text/plain": [
       "Button(description='Go', style=ButtonStyle())"
      ]
     },
     "metadata": {},
     "output_type": "display_data"
    },
    {
     "data": {
      "application/vnd.jupyter.widget-view+json": {
       "model_id": "e2fd336c63534d82a4406e365fae9e38",
       "version_major": 2,
       "version_minor": 0
      },
      "text/plain": [
       "Output()"
      ]
     },
     "metadata": {},
     "output_type": "display_data"
    },
    {
     "data": {
      "application/vnd.jupyter.widget-view+json": {
       "model_id": "af6399a6067841a9b52f40fed61cce90",
       "version_major": 2,
       "version_minor": 0
      },
      "text/plain": [
       "Output()"
      ]
     },
     "metadata": {},
     "output_type": "display_data"
    }
   ],
   "source": [
    "from IPython.display import display\n",
    "import ipywidgets as widgets\n",
    "\n",
    "# Membuat kelas Character untuk merepresentasikan karakter dalam permainan\n",
    "class Character:\n",
    "    def __init__(self, name):\n",
    "        self.name = name\n",
    "        self.location = 'Left'\n",
    "\n",
    "    def move(self):\n",
    "        if self.location == 'Left':\n",
    "            self.location = 'Right'\n",
    "        else:\n",
    "            self.location = 'Left'\n",
    "\n",
    "    def __repr__(self):\n",
    "        return self.name\n",
    "\n",
    "\n",
    "# Membuat kelas Game untuk mengatur logika permainan\n",
    "class Game:\n",
    "    def __init__(self):\n",
    "        self.wolf = Character('Wolf')\n",
    "        self.sheep = Character('Sheep')\n",
    "        self.cabbage = Character('Cabbage')\n",
    "        self.boat = []\n",
    "        self.message = widgets.Output()\n",
    "        self.buttons = {\n",
    "            'Wolf': widgets.Button(description='Wolf'),\n",
    "            'Sheep': widgets.Button(description='Sheep'),\n",
    "            'Cabbage': widgets.Button(description='Cabbage'),\n",
    "            'Go': widgets.Button(description='Go')\n",
    "        }\n",
    "        self.buttons['Wolf'].on_click(self.button_click)\n",
    "        self.buttons['Sheep'].on_click(self.button_click)\n",
    "        self.buttons['Cabbage'].on_click(self.button_click)\n",
    "        self.buttons['Go'].on_click(self.go_button_click)\n",
    "        self.move_output = widgets.Output()  # Output widget untuk memperlihatkan perpindahan\n",
    "\n",
    "    def button_click(self, button):\n",
    "        if self.boat or self.wolf.location == self.sheep.location:\n",
    "            if button.description == 'Wolf':\n",
    "                self.move_character(self.wolf)\n",
    "            elif button.description == 'Sheep':\n",
    "                self.move_character(self.sheep)\n",
    "            elif button.description == 'Cabbage':\n",
    "                self.move_character(self.cabbage)\n",
    "\n",
    "    def go_button_click(self, button):\n",
    "        if len(self.boat) > 0:\n",
    "            if self.check_valid_move():\n",
    "                self.move_boat()\n",
    "                self.check_game_state()\n",
    "                # Tambahkan baris berikut untuk mengembalikan perahu ke posisi semula\n",
    "                self.buttons['Go'].description = 'Go (Return)'\n",
    "                self.buttons['Go'].on_click(self.return_button_click)\n",
    "            else:\n",
    "                self.message.append_stdout('Invalid move!\\n')\n",
    "\n",
    "    def return_button_click(self, button):\n",
    "        self.move_boat()\n",
    "        # Tambahkan baris berikut untuk mengembalikan tombol Go ke keadaan semula\n",
    "        self.buttons['Go'].description = 'Go'\n",
    "        self.buttons['Go'].on_click(self.go_button_click)\n",
    "\n",
    "\n",
    "    def move_character(self, character):\n",
    "        if self.boat:\n",
    "            if character in self.boat:\n",
    "                self.boat.remove(character)\n",
    "            else:\n",
    "                self.message.append_stdout('Invalid move!\\n')\n",
    "                return\n",
    "        else:\n",
    "            if character.location != self.boat_location():\n",
    "                self.message.append_stdout('Invalid move!\\n')\n",
    "                return\n",
    "\n",
    "        character.move()\n",
    "        self.boat.append(character)\n",
    "        self.check_game_state()\n",
    "\n",
    "    def move_boat(self):\n",
    "        for character in self.boat:\n",
    "            character.move()\n",
    "            self.message.append_stdout(f\"{character.name} moved to the {character.location}\\n\")\n",
    "            self.move_output.append_stdout(f\"{character.name} moved to the {character.location}\\n\")  # Menambahkan perpindahan ke output\n",
    "        self.boat = []\n",
    "\n",
    "    def check_valid_move(self):\n",
    "        if self.wolf.location == self.sheep.location and self.wolf not in self.boat and self.sheep not in self.boat:\n",
    "            return False\n",
    "        if self.sheep.location == self.cabbage.location and self.sheep not in self.boat and self.cabbage not in self.boat:\n",
    "            return False\n",
    "        return True\n",
    "\n",
    "    def check_game_state(self):\n",
    "        if self.wolf.location == self.sheep.location and self.wolf.location == self.cabbage.location and self.wolf.location == 'Right':\n",
    "            self.message.append_stdout('Congratulations! You solved the puzzle!\\n')\n",
    "\n",
    "    def boat_location(self):\n",
    "        if self.boat:\n",
    "            return self.boat[0].location\n",
    "        else:\n",
    "            return 'Left'\n",
    "\n",
    "    def display_game(self):\n",
    "        buttons_container = widgets.HBox([self.buttons['Wolf'], self.buttons['Sheep'], self.buttons['Cabbage']])\n",
    "        display(buttons_container, self.buttons['Go'], self.message, self.move_output)  # Menampilkan widget output perpindahan\n",
    "\n",
    "# Membuat objek Game dan menjalankan permainan\n",
    "game = Game()\n",
    "game.display_game()\n"
   ]
  },
  {
   "cell_type": "code",
   "execution_count": null,
   "id": "b033d143",
   "metadata": {},
   "outputs": [],
   "source": []
  }
 ],
 "metadata": {
  "kernelspec": {
   "display_name": "Python 3 (ipykernel)",
   "language": "python",
   "name": "python3"
  },
  "language_info": {
   "codemirror_mode": {
    "name": "ipython",
    "version": 3
   },
   "file_extension": ".py",
   "mimetype": "text/x-python",
   "name": "python",
   "nbconvert_exporter": "python",
   "pygments_lexer": "ipython3",
   "version": "3.9.13"
  }
 },
 "nbformat": 4,
 "nbformat_minor": 5
}
