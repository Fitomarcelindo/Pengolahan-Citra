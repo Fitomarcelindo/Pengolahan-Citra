{
 "cells": [
  {
   "cell_type": "code",
   "execution_count": 1,
   "id": "67e07a82",
   "metadata": {},
   "outputs": [],
   "source": [
    "import cv2 as marcel"
   ]
  },
  {
   "cell_type": "code",
   "execution_count": 2,
   "id": "13bad669",
   "metadata": {},
   "outputs": [],
   "source": [
    "import numpy as np"
   ]
  },
  {
   "cell_type": "markdown",
   "id": "f4f3766f",
   "metadata": {},
   "source": [
    "# Import libary"
   ]
  },
  {
   "cell_type": "code",
   "execution_count": 3,
   "id": "e2b3b025",
   "metadata": {},
   "outputs": [],
   "source": [
    "pict = marcel.imread('prak.jpg')"
   ]
  },
  {
   "cell_type": "code",
   "execution_count": 4,
   "id": "faaf7867",
   "metadata": {},
   "outputs": [],
   "source": [
    "marcel.imshow('pict asli', pict)\n",
    "marcel.waitKey(0)\n",
    "marcel.destroyAllWindows()"
   ]
  },
  {
   "cell_type": "code",
   "execution_count": 5,
   "id": "7c46bffe",
   "metadata": {},
   "outputs": [
    {
     "name": "stdout",
     "output_type": "stream",
     "text": [
      "(128, 128, 3)\n",
      "uint8\n"
     ]
    }
   ],
   "source": [
    "print(pict.shape)\n",
    "print(pict.dtype) #untuk mengetahui type data apa yang digunakan dlm variabel"
   ]
  },
  {
   "cell_type": "code",
   "execution_count": 6,
   "id": "0e649cd0",
   "metadata": {},
   "outputs": [],
   "source": [
    "b = pict[:,:,0]\n",
    "g = pict[:,:,1]\n",
    "r = pict[:,:,2]"
   ]
  },
  {
   "cell_type": "markdown",
   "id": "85144b3a",
   "metadata": {},
   "source": [
    "# convert RGB IMAGE"
   ]
  },
  {
   "cell_type": "code",
   "execution_count": 13,
   "id": "63eae7e5",
   "metadata": {},
   "outputs": [],
   "source": [
    "panjang = len(pict)\n",
    "lebar = len(pict[0]) # Perbaikan: mengambil panjang lebar dari pict[0], bukan len(pict)\n",
    "\n",
    "marcel_gray = np.zeros((panjang, lebar), dtype=np.uint8) # Perbaikan: menambahkan tipe data uint8 pada inisialisasi array\n",
    "\n",
    "for i in range(panjang):\n",
    "    for j in range(lebar):\n",
    "        marcel_gray[i,j] = 0.2989 * r[i,j] + 0.587 * g[i,j] + 0.1141 * b[i,j] # Perbaikan: menghapus koma di depan nilai 2989 dan 1141\n",
    "marcel_gray = marcel_gray.astype(np.uint8)\n"
   ]
  },
  {
   "cell_type": "code",
   "execution_count": 14,
   "id": "ee554998",
   "metadata": {},
   "outputs": [],
   "source": [
    "marcel.imshow('pict asli', marcel_gray)\n",
    "marcel.waitKey(0)\n",
    "marcel.destroyAllWindows()"
   ]
  },
  {
   "cell_type": "code",
   "execution_count": 12,
   "id": "61e1b169",
   "metadata": {},
   "outputs": [
    {
     "name": "stdout",
     "output_type": "stream",
     "text": [
      "[[254 254 254 ... 254 254 254]\n",
      " [254 254 254 ... 254 254 254]\n",
      " [254 254 254 ... 254 254 254]\n",
      " ...\n",
      " [254 254 254 ... 254 254 254]\n",
      " [254 254 254 ... 254 254 254]\n",
      " [254 254 254 ... 254 254 254]]\n"
     ]
    }
   ],
   "source": [
    "print(marcel_gray)"
   ]
  },
  {
   "cell_type": "code",
   "execution_count": 15,
   "id": "ffba6dcb",
   "metadata": {},
   "outputs": [],
   "source": [
    "panjang = len(pict)\n",
    "lebar = len(pict[0]) # Perbaikan: mengambil panjang lebar dari pict[0], bukan len(pict)\n",
    "\n",
    "ambang = 255 #Variabel ambang diinisialisasi dengan nilai 255, yang digunakan sebagai ambang batas untuk konversi menjadi citra biner. Piksel dengan nilai intensitas yang lebih besar atau sama dengan ambang akan dikonversi menjadi 0 (hitam), dan piksel dengan nilai intensitas yang lebih kecil dari ambang akan dikonversi menjadi 1 (putih).\n",
    "marcel_binary = np.zeros((panjang, lebar), dtype=np.uint8) # Perbaikan: menambahkan tipe data uint8 pada inisialisasi array\n",
    "\n",
    "for i in range(panjang):\n",
    "    for j in range(lebar):\n",
    "        if marcel_gray[i,j] >= ambang:\n",
    "            marcel_binary[i,j] = 0\n",
    "        else :\n",
    "            marcel_binary[i,j] = 1\n",
    "            \n"
   ]
  },
  {
   "cell_type": "code",
   "execution_count": 16,
   "id": "50ddc74d",
   "metadata": {},
   "outputs": [],
   "source": [
    "marcel.imshow('pict asli', marcel_gray)\n",
    "marcel.waitKey(0)\n",
    "marcel.destroyAllWindows()"
   ]
  },
  {
   "cell_type": "code",
   "execution_count": 17,
   "id": "0e5b801b",
   "metadata": {},
   "outputs": [
    {
     "name": "stdout",
     "output_type": "stream",
     "text": [
      "166\n"
     ]
    }
   ],
   "source": [
    "print(marcel_gray[50,50])"
   ]
  },
  {
   "cell_type": "code",
   "execution_count": 18,
   "id": "8fe8d3c8",
   "metadata": {},
   "outputs": [
    {
     "name": "stdout",
     "output_type": "stream",
     "text": [
      "1\n"
     ]
    }
   ],
   "source": [
    "print(marcel_binary[50,50])"
   ]
  },
  {
   "cell_type": "code",
   "execution_count": null,
   "id": "a8c02052",
   "metadata": {},
   "outputs": [],
   "source": []
  }
 ],
 "metadata": {
  "kernelspec": {
   "display_name": "Python 3 (ipykernel)",
   "language": "python",
   "name": "python3"
  },
  "language_info": {
   "codemirror_mode": {
    "name": "ipython",
    "version": 3
   },
   "file_extension": ".py",
   "mimetype": "text/x-python",
   "name": "python",
   "nbconvert_exporter": "python",
   "pygments_lexer": "ipython3",
   "version": "3.9.13"
  }
 },
 "nbformat": 4,
 "nbformat_minor": 5
}
