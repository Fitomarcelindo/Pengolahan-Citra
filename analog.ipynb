{
 "cells": [
  {
   "cell_type": "code",
   "execution_count": 21,
   "id": "1cc6734a",
   "metadata": {},
   "outputs": [
    {
     "name": "stdout",
     "output_type": "stream",
     "text": [
      "Collecting package metadata (current_repodata.json): ...working... done\n",
      "Solving environment: ...working... done\n",
      "\n",
      "# All requested packages already installed.\n",
      "\n",
      "Retrieving notices: ...working... done\n"
     ]
    },
    {
     "name": "stderr",
     "output_type": "stream",
     "text": [
      "\n",
      "\n",
      "==> WARNING: A newer version of conda exists. <==\n",
      "  current version: 22.9.0\n",
      "  latest version: 23.5.0\n",
      "\n",
      "Please update conda by running\n",
      "\n",
      "    $ conda update -n base -c defaults conda\n",
      "\n",
      "\n"
     ]
    }
   ],
   "source": [
    "!conda install --yes numpy"
   ]
  },
  {
   "cell_type": "code",
   "execution_count": 20,
   "id": "15a1b285",
   "metadata": {
    "scrolled": false
   },
   "outputs": [
    {
     "name": "stdout",
     "output_type": "stream",
     "text": [
      "Collecting package metadata (current_repodata.json): ...working... done\n",
      "Solving environment: ...working... done\n",
      "\n",
      "## Package Plan ##\n",
      "\n",
      "  environment location: C:\\Users\\ACER\\anaconda3\n",
      "\n",
      "  added / updated specs:\n",
      "    - conda\n",
      "\n",
      "\n",
      "The following packages will be downloaded:\n",
      "\n",
      "    package                    |            build\n",
      "    ---------------------------|-----------------\n",
      "    conda-package-handling-2.1.0|   py39haa95532_0         286 KB\n",
      "    conda-package-streaming-0.8.0|   py39haa95532_0          28 KB\n",
      "    conda-repo-cli-1.0.41      |   py39haa95532_0         142 KB\n",
      "    zstandard-0.19.0           |   py39h2bbff1b_0         340 KB\n",
      "    ------------------------------------------------------------\n",
      "                                           Total:         796 KB\n",
      "\n",
      "The following NEW packages will be INSTALLED:\n",
      "\n",
      "  conda-package-str~ pkgs/main/win-64::conda-package-streaming-0.8.0-py39haa95532_0 None\n",
      "  zstandard          pkgs/main/win-64::zstandard-0.19.0-py39h2bbff1b_0 None\n",
      "\n",
      "The following packages will be UPDATED:\n",
      "\n",
      "  conda-package-han~                   1.9.0-py39h8cc25b3_0 --> 2.1.0-py39haa95532_0 None\n",
      "  conda-repo-cli                      1.0.20-py39haa95532_0 --> 1.0.41-py39haa95532_0 None\n",
      "\n",
      "\n",
      "\n",
      "Downloading and Extracting Packages\n",
      "\n",
      "conda-package-stream | 28 KB     |            |   0% \n",
      "conda-package-stream | 28 KB     | #####7     |  57% \n",
      "conda-package-stream | 28 KB     | ########## | 100% \n",
      "conda-package-stream | 28 KB     | ########## | 100% \n",
      "\n",
      "conda-package-handli | 286 KB    |            |   0% \n",
      "conda-package-handli | 286 KB    | #######2   |  73% \n",
      "conda-package-handli | 286 KB    | ########## | 100% \n",
      "\n",
      "conda-repo-cli-1.0.4 | 142 KB    |            |   0% \n",
      "conda-repo-cli-1.0.4 | 142 KB    | ########## | 100% \n",
      "conda-repo-cli-1.0.4 | 142 KB    | ########## | 100% \n",
      "\n",
      "zstandard-0.19.0     | 340 KB    |            |   0% \n",
      "zstandard-0.19.0     | 340 KB    | ########## | 100% \n",
      "zstandard-0.19.0     | 340 KB    | ########## | 100% \n",
      "Preparing transaction: ...working... done\n",
      "Verifying transaction: ...working... done\n",
      "Executing transaction: ...working... done\n",
      "Retrieving notices: ...working... done\n"
     ]
    },
    {
     "name": "stderr",
     "output_type": "stream",
     "text": [
      "\n",
      "\n",
      "==> WARNING: A newer version of conda exists. <==\n",
      "  current version: 22.9.0\n",
      "  latest version: 23.5.0\n",
      "\n",
      "Please update conda by running\n",
      "\n",
      "    $ conda update -n base -c defaults conda\n",
      "\n",
      "\n"
     ]
    },
    {
     "name": "stdout",
     "output_type": "stream",
     "text": [
      "Collecting package metadata (current_repodata.json): ...working... done\n",
      "Solving environment: ...working... done\n",
      "\n",
      "## Package Plan ##\n",
      "\n",
      "  environment location: C:\\Users\\ACER\\anaconda3\n",
      "\n",
      "  added / updated specs:\n",
      "    - conda\n",
      "\n",
      "\n",
      "The following NEW packages will be INSTALLED:\n",
      "\n",
      "  conda-package-str~ pkgs/main/win-64::conda-package-streaming-0.8.0-py39haa95532_0 None\n",
      "  zstandard          pkgs/main/win-64::zstandard-0.19.0-py39h2bbff1b_0 None\n",
      "\n",
      "The following packages will be UPDATED:\n",
      "\n",
      "  conda-package-han~                   1.9.0-py39h8cc25b3_0 --> 2.1.0-py39haa95532_0 None\n",
      "  conda-repo-cli                      1.0.20-py39haa95532_0 --> 1.0.41-py39haa95532_0 None\n",
      "\n",
      "\n",
      "Preparing transaction: ...working... done\n",
      "Verifying transaction: ...working... done\n",
      "Executing transaction: ...working... done\n",
      "Retrieving notices: ...working... done\n",
      "\n",
      "Note: you may need to restart the kernel to use updated packages.\n"
     ]
    },
    {
     "name": "stderr",
     "output_type": "stream",
     "text": [
      "\n",
      "\n",
      "==> WARNING: A newer version of conda exists. <==\n",
      "  current version: 22.9.0\n",
      "  latest version: 23.5.0\n",
      "\n",
      "Please update conda by running\n",
      "\n",
      "    $ conda update -n base -c defaults conda\n",
      "\n",
      "\n"
     ]
    }
   ],
   "source": [
    "conda update -n base -c defaults conda"
   ]
  },
  {
   "cell_type": "code",
   "execution_count": 22,
   "id": "4a51a8e9",
   "metadata": {},
   "outputs": [
    {
     "name": "stdout",
     "output_type": "stream",
     "text": [
      "Collecting package metadata (current_repodata.json): ...working... done\n",
      "Solving environment: ...working... done\n",
      "\n",
      "# All requested packages already installed.\n",
      "\n",
      "Retrieving notices: ...working... done\n"
     ]
    },
    {
     "name": "stderr",
     "output_type": "stream",
     "text": [
      "\n",
      "\n",
      "==> WARNING: A newer version of conda exists. <==\n",
      "  current version: 22.9.0\n",
      "  latest version: 23.5.0\n",
      "\n",
      "Please update conda by running\n",
      "\n",
      "    $ conda update -n base -c defaults conda\n",
      "\n",
      "\n"
     ]
    }
   ],
   "source": [
    "import sys\n",
    "!conda install --yes --prefix {sys.prefix} numpy"
   ]
  },
  {
   "cell_type": "code",
   "execution_count": 23,
   "id": "6382982c",
   "metadata": {},
   "outputs": [
    {
     "name": "stdout",
     "output_type": "stream",
     "text": [
      "Requirement already satisfied: numpy in c:\\users\\acer\\anaconda3\\lib\\site-packages (1.21.5)\n"
     ]
    }
   ],
   "source": [
    "!pip install numpy"
   ]
  },
  {
   "cell_type": "code",
   "execution_count": 24,
   "id": "2fdecce0",
   "metadata": {},
   "outputs": [
    {
     "name": "stdout",
     "output_type": "stream",
     "text": [
      "Requirement already satisfied: numpy in c:\\users\\acer\\anaconda3\\lib\\site-packages (1.21.5)\n"
     ]
    }
   ],
   "source": [
    "import sys\n",
    "!{sys.executable} -m pip install numpy\n"
   ]
  },
  {
   "cell_type": "code",
   "execution_count": 25,
   "id": "40bcfc1f",
   "metadata": {},
   "outputs": [
    {
     "data": {
      "text/plain": [
       "['C:\\\\Users\\\\ACER\\\\PraticePengcit',\n",
       " 'C:\\\\Users\\\\ACER\\\\anaconda3\\\\python39.zip',\n",
       " 'C:\\\\Users\\\\ACER\\\\anaconda3\\\\DLLs',\n",
       " 'C:\\\\Users\\\\ACER\\\\anaconda3\\\\lib',\n",
       " 'C:\\\\Users\\\\ACER\\\\anaconda3',\n",
       " '',\n",
       " 'C:\\\\Users\\\\ACER\\\\anaconda3\\\\lib\\\\site-packages',\n",
       " 'C:\\\\Users\\\\ACER\\\\anaconda3\\\\lib\\\\site-packages\\\\win32',\n",
       " 'C:\\\\Users\\\\ACER\\\\anaconda3\\\\lib\\\\site-packages\\\\win32\\\\lib',\n",
       " 'C:\\\\Users\\\\ACER\\\\anaconda3\\\\lib\\\\site-packages\\\\Pythonwin',\n",
       " 'C:\\\\Users\\\\ACER\\\\anaconda3\\\\lib\\\\site-packages\\\\IPython\\\\extensions',\n",
       " 'C:\\\\Users\\\\ACER\\\\.ipython']"
      ]
     },
     "execution_count": 25,
     "metadata": {},
     "output_type": "execute_result"
    }
   ],
   "source": [
    "import sys\n",
    "sys.path"
   ]
  },
  {
   "cell_type": "code",
   "execution_count": 26,
   "id": "77916ccf",
   "metadata": {},
   "outputs": [
    {
     "data": {
      "text/plain": [
       "['C:\\\\Users\\\\ACER\\\\anaconda3\\\\lib\\\\site-packages\\\\numpy']"
      ]
     },
     "execution_count": 26,
     "metadata": {},
     "output_type": "execute_result"
    }
   ],
   "source": [
    "import numpy\n",
    "numpy.__path__"
   ]
  },
  {
   "cell_type": "code",
   "execution_count": 31,
   "id": "fe3b1713",
   "metadata": {},
   "outputs": [],
   "source": [
    "import sys \n",
    "import networkx as nx\n",
    "import matplotlib.pyplot as plt"
   ]
  },
  {
   "cell_type": "code",
   "execution_count": 46,
   "id": "d0172583",
   "metadata": {},
   "outputs": [
    {
     "data": {
      "image/png": "[encoded data removed]",
      "text/plain": [
       "<Figure size 800x600 with 1 Axes>"
      ]
     },
     "metadata": {},
     "output_type": "display_data"
    }
   ],
   "source": [
    "import networkx as marcel\n",
    "import matplotlib.pyplot as fito\n",
    "\n",
    "# Membangun grafik\n",
    "G = marcel.Graph()\n",
    "\n",
    "# Menambahkan node pada grafik\n",
    "G.add_node(\"Solin\")\n",
    "G.add_node(\"Kristal\")\n",
    "G.add_node(\"A\")\n",
    "G.add_node(\"B\")\n",
    "G.add_node(\"C\")\n",
    "G.add_node(\"D\")\n",
    "G.add_node(\"E\")\n",
    "\n",
    "# Menambahkan edge pada grafik dengan bobot\n",
    "G.add_edge(\"Solin\", \"A\", weight=1)\n",
    "G.add_edge(\"Solin\", \"B\", weight=4)\n",
    "G.add_edge(\"Solin\", \"C\", weight=3)\n",
    "G.add_edge(\"Kristal\", \"B\", weight=2)\n",
    "G.add_edge(\"Kristal\", \"C\", weight=5)\n",
    "G.add_edge(\"A\", \"B\", weight=6)\n",
    "G.add_edge(\"A\", \"D\", weight=1)\n",
    "G.add_edge(\"A\", \"E\", weight=4)\n",
    "G.add_edge(\"B\", \"C\", weight=2)\n",
    "G.add_edge(\"B\", \"D\", weight=3)\n",
    "G.add_edge(\"C\", \"E\", weight=5)\n",
    "G.add_edge(\"D\", \"E\", weight=4)\n",
    "\n",
    "# Menghitung minimum spanning tree\n",
    "T = marcel.minimum_spanning_tree(G)\n",
    "\n",
    "# Menampilkan grafik\n",
    "pos = marcel.spring_layout(G)\n",
    "labels = marcel.get_edge_attributes(G, 'weight')\n",
    "\n",
    "fito.figure(figsize=(8, 6))\n",
    "marcel.draw_networkx(G, pos, with_labels=True, node_color=\"lightblue\", node_size=1000, font_size=12, edge_color=\"gray\")\n",
    "marcel.draw_networkx_edges(G, pos, edgelist=T.edges(), edge_color=\"green\", width=2.0)\n",
    "marcel.draw_networkx_edge_labels(G, pos, edge_labels=labels)\n",
    "\n",
    "fito.title(\"Minimum Spanning Tree (Pohon Rentang Minimum)\")\n",
    "fito.axis('off')\n",
    "fito.show()\n"
   ]
  },
  {
   "cell_type": "code",
   "execution_count": null,
   "id": "8de2942f",
   "metadata": {},
   "outputs": [],
   "source": []
  }
 ],
 "metadata": {
  "kernelspec": {
   "display_name": "Python 3 (ipykernel)",
   "language": "python",
   "name": "python3"
  },
  "language_info": {
   "codemirror_mode": {
    "name": "ipython",
    "version": 3
   },
   "file_extension": ".py",
   "mimetype": "text/x-python",
   "name": "python",
   "nbconvert_exporter": "python",
   "pygments_lexer": "ipython3",
   "version": "3.9.13"
  }
 },
 "nbformat": 4,
 "nbformat_minor": 5
}
